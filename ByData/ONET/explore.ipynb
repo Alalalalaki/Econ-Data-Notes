{
 "cells": [
  {
   "cell_type": "code",
   "execution_count": null,
   "id": "1f54d05a-7154-485f-96f7-dd98afd37807",
   "metadata": {},
   "outputs": [],
   "source": []
  },
  {
   "cell_type": "markdown",
   "id": "78a366e6-476e-4c5c-9aa6-924c43415f16",
   "metadata": {},
   "source": [
    "## Setup"
   ]
  },
  {
   "cell_type": "code",
   "execution_count": null,
   "id": "825c5602-73d9-4984-a07f-30f903c3ddea",
   "metadata": {},
   "outputs": [],
   "source": [
    "from tqdm import tqdm\n",
    "import time\n",
    "from tenacity import retry"
   ]
  },
  {
   "cell_type": "code",
   "execution_count": null,
   "id": "e9c8ba2e-7161-4301-ab5d-b01fe02a7645",
   "metadata": {},
   "outputs": [],
   "source": [
    "# copy from https://github.com/onetcenter/web-services-samples/blob/master/python-3/OnetWebService.py\n",
    "import urllib.request, urllib.parse, urllib.error\n",
    "import urllib.request, urllib.error, urllib.parse\n",
    "import base64\n",
    "import json\n",
    "\n",
    "class OnetWebService:\n",
    "    \n",
    "    def __init__(self, username, password):\n",
    "        self._headers = {\n",
    "            'User-Agent': 'python-OnetWebService/1.00 (bot)',\n",
    "            'Authorization': 'Basic ' + base64.standard_b64encode((username + ':' + password).encode()).decode(),\n",
    "            'Accept': 'application/json' }\n",
    "        self.set_version()\n",
    "    \n",
    "    def set_version(self, version = None):\n",
    "        if version is None:\n",
    "            self._url_root = 'https://services.onetcenter.org/ws/'\n",
    "        else:\n",
    "            self._url_root = 'https://services.onetcenter.org/v' + version + '/ws/'\n",
    "    \n",
    "    def call(self, path, *query):\n",
    "        url = self._url_root + path\n",
    "        if len(query) > 0:\n",
    "            url += '?' + urllib.parse.urlencode(query, True)\n",
    "        req = urllib.request.Request(url, None, self._headers)\n",
    "        handle = None\n",
    "        try:\n",
    "            handle = urllib.request.urlopen(req)\n",
    "        except urllib.error.HTTPError as e:\n",
    "            if e.code == 422:\n",
    "                return json.load(e)\n",
    "            else:\n",
    "                return { 'error': 'Call to ' + url + ' failed with error code ' + str(e.code) }\n",
    "        except urllib.error.URLError as e:\n",
    "            return { 'error': 'Call to ' + url + ' failed with reason: ' + str(e.reason) }\n",
    "        code = handle.getcode()\n",
    "        if (code != 200) and (code != 422):\n",
    "            return { 'error': 'Call to ' + url + ' failed with error code ' + str(code),\n",
    "                     'urllib2_info': handle }\n",
    "        return json.load(handle)"
   ]
  },
  {
   "cell_type": "code",
   "execution_count": null,
   "id": "d8da02af-a26e-419f-8e65-78c7ccc1925f",
   "metadata": {},
   "outputs": [],
   "source": [
    "import API_KEYS \n",
    "\n",
    "username = \"a_study_on_occupatio\"\n",
    "password = API_KEYS.ONET"
   ]
  },
  {
   "cell_type": "code",
   "execution_count": null,
   "id": "3666efd7-385f-40d3-a0f6-d5136df9934e",
   "metadata": {},
   "outputs": [],
   "source": [
    "onet_ws = OnetWebService(username, password)"
   ]
  },
  {
   "cell_type": "code",
   "execution_count": null,
   "id": "72072637-e579-482e-83c6-df99d4217d98",
   "metadata": {},
   "outputs": [],
   "source": [
    "def check_for_error(service_result):\n",
    "    if 'error' in service_result:\n",
    "        # sys.exit(service_result['error'])\n",
    "        raise RuntimeError(service_result['error'])\n",
    "\n",
    "vinfo = onet_ws.call('about')\n",
    "check_for_error(vinfo)\n",
    "print(\"Connected to O*NET Web Services version \" + str(vinfo['api_version']))\n",
    "print(\"\")"
   ]
  },
  {
   "cell_type": "markdown",
   "id": "dbd6d5f3-f537-4eb6-9c62-b53730593393",
   "metadata": {},
   "source": [
    "## Crosswalk from O*NET-SOC to SOC "
   ]
  },
  {
   "cell_type": "markdown",
   "id": "393b273b-c7b4-4a73-9779-c603560e762a",
   "metadata": {},
   "source": [
    "Using the csv file in taxonomy page is convenient than using api "
   ]
  },
  {
   "cell_type": "code",
   "execution_count": null,
   "id": "e31359c1-0244-4d23-aea7-567ab8cecf80",
   "metadata": {},
   "outputs": [],
   "source": [
    "# O*NET-SOC 2019 (Code;Title;Description)\n",
    "onetsoc = pd.read_csv(\"https://www.onetcenter.org/taxonomy/2019/list/2019_Occupations.csv?fmt=csv\")"
   ]
  },
  {
   "cell_type": "code",
   "execution_count": null,
   "id": "a021516d-7e02-45df-8b76-d18b56262f24",
   "metadata": {},
   "outputs": [],
   "source": [
    "# O*NET-SOC 2019 -> 2018 SO (Code;Title)\n",
    "crosswalk = pd.read_csv(\"https://www.onetcenter.org/taxonomy/2019/soc/2019_to_SOC_Crosswalk.csv?fmt=csv\")"
   ]
  },
  {
   "cell_type": "code",
   "execution_count": null,
   "id": "f6eccd1e-e5af-4a2e-aad1-edd3d3f8ccd7",
   "metadata": {},
   "outputs": [],
   "source": [
    "crosswalk"
   ]
  },
  {
   "cell_type": "markdown",
   "id": "675cd08d-c595-4130-8873-3f0d305bd524",
   "metadata": {},
   "source": [
    "## Occupation Report\n",
    "\n",
    "https://services.onetcenter.org/reference/online/occupation/details/full_report\n",
    "\n",
    "This response returns information from the occupation overview and all of the specific Details report services.\n",
    "\n",
    "- \"code\": \"O*NET-SOC Code\"\n",
    "- \"display\" : \"short\"\n",
    "  - In most report sections, up to 10 items are returned by default. To see all available items in each report section, set the optional display parameter to long. This is equivalent to setting the parameter on each of the individual report services.\n",
    "- \"occupation\": \n",
    "  - 'code'; 'title'; 'description'; 'sample_of_reported_job_titles'; \n",
    "  - 'also_see' (more detailed occupation code not in SOC)\n",
    "  - 'updated'\n",
    "  - 'summary_resources'; 'details_resources'; 'custom_resources'\n",
    "- ... \n",
    "- \"tools_technology\":\n",
    "  - Important: The response may include a tools_technology element, which is included for backward compatibility only. It will be removed in a future release and should not be used in new applications. Please use the technology_skills and tools_used elements instead."
   ]
  },
  {
   "cell_type": "markdown",
   "id": "55944d65-098d-48e0-b408-5676d674a177",
   "metadata": {},
   "source": [
    "**Lise & Postel-Vinay 2020 aer**\n",
    "- descriptors from [skills, abilities, knowledge, work activities, work context] are used to form skill requirements\n",
    "- [job interests, work values, work styles] are less directly interpretable in terms of skill requirements\n",
    "- [experience/education requirements] are used to construct the cognitive, manual, and interpersonal scores for each education level (take the average value from the education requirements of each occupation in ONET)"
   ]
  },
  {
   "cell_type": "code",
   "execution_count": null,
   "id": "c341d658-995e-42d5-8aa1-06e14187245f",
   "metadata": {},
   "outputs": [],
   "source": [
    "path = lambda code: f\"online/occupations/{code}/details/\""
   ]
  },
  {
   "cell_type": "code",
   "execution_count": null,
   "id": "9c04c682-a5fe-42be-b27b-1d9b91b00162",
   "metadata": {},
   "outputs": [],
   "source": [
    "r = onet_ws.call(path(\"17-2051.00\"), ('display', \"long\"))"
   ]
  },
  {
   "cell_type": "code",
   "execution_count": null,
   "id": "d1e465ae-3583-4602-ae14-9fff75ea9086",
   "metadata": {},
   "outputs": [],
   "source": [
    "[i for i in r.keys()]"
   ]
  },
  {
   "cell_type": "code",
   "execution_count": null,
   "id": "1e11e418-b86b-4154-a0db-6ea3519e78d9",
   "metadata": {},
   "outputs": [],
   "source": [
    "for i in r[\"skills\"]['element']:\n",
    "    i"
   ]
  },
  {
   "cell_type": "code",
   "execution_count": null,
   "id": "6fffe624-3459-4863-96fc-18c9a821593c",
   "metadata": {},
   "outputs": [],
   "source": [
    "descriptors_map = {}\n",
    "for c in [\"skills\", \"abilities\", \"knowledge\", \"work_activities\", \"work_context\"]: \n",
    "    for i in r[c]['element']:\n",
    "        # d[i['id']] = i['score']['value']\n",
    "        descriptors_map[i['id']] = i['name']"
   ]
  },
  {
   "cell_type": "code",
   "execution_count": null,
   "id": "88ebac71-24ac-428e-8f13-7e22d3201548",
   "metadata": {},
   "outputs": [],
   "source": [
    "pd.DataFrame([d,d], index=[1,2])"
   ]
  },
  {
   "cell_type": "code",
   "execution_count": null,
   "id": "ca84b0c0-cd1c-4801-a9c5-1f4178e0cb62",
   "metadata": {},
   "outputs": [],
   "source": [
    "@retry\n",
    "def access_onet(onet, occ):\n",
    "    r = onet.call(path(occ), ('display', \"long\"))\n",
    "    check_for_error(r)\n",
    "    return r\n",
    "\n",
    "def get_occ_matrix(onet, occs, categories,):\n",
    "    ds = []\n",
    "    for o in tqdm(occs):\n",
    "        r = access_onet(onet, o)\n",
    "        d = {}\n",
    "        for c in categories: \n",
    "            if c not in r.keys():\n",
    "                # some occupation have missing categories\n",
    "                break\n",
    "            for i in r[c]['element']:\n",
    "                if 'score' in i:\n",
    "                    d[i['id']] = i['score']['value']\n",
    "                else:\n",
    "                    d[i['id']] = None\n",
    "        ds.append(d)\n",
    "    occ_matrix = pd.DataFrame(ds, index=occs)\n",
    "    return occ_matrix"
   ]
  },
  {
   "cell_type": "code",
   "execution_count": null,
   "id": "8505d500-0cfb-445b-aaed-afd0a1cc955a",
   "metadata": {},
   "outputs": [],
   "source": [
    "occ_all = crosswalk[\"O*NET-SOC 2019 Code\"].values\n",
    "categories = [\"skills\", \"abilities\", \"knowledge\", \"work_activities\", \"work_context\"]\n",
    "\n",
    "occ_matrix = get_occ_matrix(onet_ws, occ_all, categories)"
   ]
  },
  {
   "cell_type": "code",
   "execution_count": null,
   "id": "5f493a14-8927-4a14-b882-607eb9484d19",
   "metadata": {},
   "outputs": [],
   "source": [
    "occ_matrix.dropna()"
   ]
  },
  {
   "cell_type": "markdown",
   "id": "2aedf117-3e21-49fc-8652-c0b60e5e30dc",
   "metadata": {},
   "source": [
    "## PCA"
   ]
  },
  {
   "cell_type": "markdown",
   "id": "f00daf0a-c3e6-4b88-9be5-147f04604b94",
   "metadata": {},
   "source": [
    "three exclusion restrictions in LPV\n",
    "- (i) the mathematics score only reflects cognitive skill requirements; ('2.A.1.e')\n",
    "- (ii) the mechanical knowledge score only reflects manual skill requirements; ('2.C.3.e')\n",
    "- (iii) the social perceptiveness score only reflects interpersonal skill requirements. ('2.B.1.a')"
   ]
  },
  {
   "cell_type": "code",
   "execution_count": null,
   "id": "381ddd22-9f4c-4ec9-bd71-ba0ea27a310f",
   "metadata": {},
   "outputs": [],
   "source": [
    "occm = occ_matrix.dropna()"
   ]
  },
  {
   "cell_type": "raw",
   "id": "db7d45e4-0e61-4a16-85d8-5839489cd784",
   "metadata": {},
   "source": [
    "# check codes for skills\n",
    "descriptors_map"
   ]
  },
  {
   "cell_type": "code",
   "execution_count": null,
   "id": "4a394adf-d308-4904-bc95-1847e48f809a",
   "metadata": {},
   "outputs": [],
   "source": [
    "dimen_occs = ['2.A.1.e','2.C.3.e','2.B.1.a']\n",
    "reorder_cols = dimen_occs + occm.columns.drop(dimen_occs).to_list()\n",
    "occm = occm[reorder_cols]"
   ]
  },
  {
   "cell_type": "code",
   "execution_count": null,
   "id": "6ecb8cb4-025c-4e30-be0b-5d2b14483126",
   "metadata": {},
   "outputs": [],
   "source": [
    "from sklearn.decomposition import PCA"
   ]
  },
  {
   "cell_type": "code",
   "execution_count": null,
   "id": "04a805ed-e405-45bb-bcc1-f951313ed938",
   "metadata": {},
   "outputs": [],
   "source": [
    "n_components = 3\n",
    "pca = PCA(n_components=n_components)\n",
    "mu = np.mean(occm.values, axis=0)\n",
    "X = pca.fit_transform(occm.values)\n",
    "X.shape\n",
    "# components_ is the loading, \n",
    "# see e.g. https://scentellegher.github.io/machine-learning/2020/01/27/pca-loadings-sklearn.html \n",
    "# or https://stats.stackexchange.com/questions/229092/how-to-reverse-pca-and-reconstruct-original-variables-from-several-principal-com\n",
    "pca.components_.shape "
   ]
  },
  {
   "cell_type": "code",
   "execution_count": null,
   "id": "4aba0641-1e8c-453a-9d82-99600e127c82",
   "metadata": {},
   "outputs": [],
   "source": [
    "XT = X @ pca.components_[:,:3]"
   ]
  },
  {
   "cell_type": "code",
   "execution_count": null,
   "id": "6b113e41-fd9a-4c61-bc81-dc72e7ecb6fb",
   "metadata": {},
   "outputs": [],
   "source": [
    "# linear rescaling to (0,1)\n",
    "from sklearn.preprocessing import MinMaxScaler\n",
    "\n",
    "scaler = MinMaxScaler()\n",
    "XT_norm = scaler.fit_transform(XT)"
   ]
  },
  {
   "cell_type": "code",
   "execution_count": null,
   "id": "3dda0bdf-ec87-45c8-9500-eb1545a2c6d5",
   "metadata": {},
   "outputs": [],
   "source": [
    "XT_norm"
   ]
  },
  {
   "cell_type": "code",
   "execution_count": null,
   "id": "0f6b9b58-7b33-4eea-9856-44600b0d63a1",
   "metadata": {},
   "outputs": [],
   "source": [
    "occm_XTn =pd.DataFrame(XT_norm, index=occm.index, columns=[\"cognitive\", \"manual\", \"interpersonal\"])\n",
    "occm_cw = crosswalk.set_index(\"O*NET-SOC 2019 Code\").merge(occm_XTn, left_index=True, right_index=True,) # .merge(occm, left_index=True, right_index=True,)"
   ]
  },
  {
   "cell_type": "code",
   "execution_count": null,
   "id": "8565efa3-a6f9-4b23-b6cc-3e986afd7de0",
   "metadata": {},
   "outputs": [],
   "source": [
    "# although it seems somehow weird that Engineers go to the highest cognitive rank\n",
    "# in general the three cognitive, manual, interpersonal measures seem making sense\n",
    "# but in other words it seems to very precise but still rough measures for those interpretations\n",
    "prints(occm_cw.sort_values(\"cognitive\", ascending=False))\n",
    "# prints(occm_cw.sort_values(\"manual\", ascending=False))\n",
    "# prints(occm_cw.sort_values(\"interpersonal\", ascending=False))"
   ]
  },
  {
   "cell_type": "code",
   "execution_count": null,
   "id": "6a3335bc-8610-44fc-9285-eb15142978a8",
   "metadata": {},
   "outputs": [],
   "source": [
    "# check some specific occupation\n",
    "prints(occm_cw[occm_cw[\"2018 SOC Code\"].str.startswith(\"15\")])"
   ]
  },
  {
   "cell_type": "code",
   "execution_count": null,
   "id": "5ba3ccd7-4c13-4efc-986a-00f39812e3e9",
   "metadata": {},
   "outputs": [],
   "source": []
  }
 ],
 "metadata": {
  "kernelspec": {
   "display_name": "Python 3.8",
   "language": "python",
   "name": "python3"
  },
  "language_info": {
   "codemirror_mode": {
    "name": "ipython",
    "version": 3
   },
   "file_extension": ".py",
   "mimetype": "text/x-python",
   "name": "python",
   "nbconvert_exporter": "python",
   "pygments_lexer": "ipython3",
   "version": "3.8.12"
  }
 },
 "nbformat": 4,
 "nbformat_minor": 5
}
