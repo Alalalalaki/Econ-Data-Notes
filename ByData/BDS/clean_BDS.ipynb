{
 "cells": [
  {
   "cell_type": "code",
   "execution_count": null,
   "id": "dcee7bbf-372d-483c-a358-af6c961b0f23",
   "metadata": {},
   "outputs": [],
   "source": [
    "from util.plot import plot_interactive_lines"
   ]
  },
  {
   "cell_type": "markdown",
   "id": "fb621c7a-6830-4b80-9dae-43b05f794496",
   "metadata": {
    "tags": []
   },
   "source": [
    "## BDS (CSV Data)"
   ]
  },
  {
   "cell_type": "markdown",
   "id": "475e743d-ec2a-4734-be6d-a0a1798d2dfe",
   "metadata": {
    "tags": []
   },
   "source": [
    "### Download"
   ]
  },
  {
   "cell_type": "markdown",
   "id": "55745abf-3e35-42e7-b92d-d13b8fd3dade",
   "metadata": {},
   "source": [
    "https://www.census.gov/data/datasets/time-series/econ/bds/bds-datasets.html"
   ]
  },
  {
   "cell_type": "code",
   "execution_count": null,
   "id": "692d7696-345f-4c92-9574-cfb62130cdc0",
   "metadata": {},
   "outputs": [],
   "source": [
    "base_url = \"https://www2.census.gov/programs-surveys/bds/tables/time-series/\""
   ]
  },
  {
   "cell_type": "code",
   "execution_count": null,
   "id": "2e541ee3-8de7-49c5-b8d4-c0eaf0ce02ed",
   "metadata": {},
   "outputs": [],
   "source": [
    "dfe_s = pd.read_csv(base_url+\"bds2018_sector.csv\")"
   ]
  },
  {
   "cell_type": "code",
   "execution_count": null,
   "id": "10dddbcb-6c3d-4f92-b0bb-c4a84c7f1ed2",
   "metadata": {},
   "outputs": [],
   "source": [
    "dfe_az = pd.read_csv(base_url+\"bds2018_eage_esize.csv\")"
   ]
  },
  {
   "cell_type": "code",
   "execution_count": null,
   "id": "8f888f1d-748a-4507-8826-0179122f9ef3",
   "metadata": {},
   "outputs": [],
   "source": [
    "dfe_sa = pd.read_csv(base_url+\"bds2018_sector_eage.csv\")"
   ]
  },
  {
   "cell_type": "markdown",
   "id": "6b54e66d-1482-4efd-a13b-05e2af4b1685",
   "metadata": {},
   "source": [
    "### Categories"
   ]
  },
  {
   "cell_type": "code",
   "execution_count": null,
   "id": "8a470760-76d6-4ee0-9bcf-3d7160898111",
   "metadata": {},
   "outputs": [],
   "source": [
    "cat_tables = pd.read_html(\"https://www.census.gov/programs-surveys/bds/documentation/glossary.html\")"
   ]
  },
  {
   "cell_type": "code",
   "execution_count": null,
   "id": "d5b39523-5ad3-4ab4-991f-ff12be199eff",
   "metadata": {},
   "outputs": [],
   "source": [
    "cat_e_age, cat_e_size, cat_f_age, cat_f_size, cat_nonmetro, cat_sector, cat_state = [\n",
    "    i.dropna(axis=1, how=\"all\") for i in cat_tables\n",
    "]"
   ]
  },
  {
   "cell_type": "code",
   "execution_count": null,
   "id": "31fb8a7e-0757-4add-a1d8-203d7cd0ddbe",
   "metadata": {},
   "outputs": [],
   "source": [
    "cat_sector = cat_sector.set_index(0).iloc[1:,0].to_dict()"
   ]
  },
  {
   "cell_type": "code",
   "execution_count": null,
   "id": "2564038b-337d-4426-846a-47a52ef0fb63",
   "metadata": {},
   "outputs": [],
   "source": [
    "def add_"
   ]
  },
  {
   "cell_type": "code",
   "execution_count": null,
   "id": "4bfec98e-18e8-431f-9a29-63636fb9e0dd",
   "metadata": {},
   "outputs": [],
   "source": []
  },
  {
   "cell_type": "markdown",
   "id": "69b8aa09-25b8-4407-8eb9-711fd95e1b1e",
   "metadata": {
    "tags": []
   },
   "source": [
    "### Explore\n",
    "\n",
    "(experimental explore // should create clean functions here and make another notebook for exploration)"
   ]
  },
  {
   "cell_type": "markdown",
   "id": "956afe8c-4947-48c1-8997-ad0a90446872",
   "metadata": {},
   "source": [
    "#### Entry/Exit Rate by Sector"
   ]
  },
  {
   "cell_type": "code",
   "execution_count": null,
   "id": "1aa5e211-94e5-4bb4-a19d-5854821c8f41",
   "metadata": {},
   "outputs": [],
   "source": [
    "dt = dfe_s.assign(sector_ = dfe_s.sector.map(cat_sector))"
   ]
  },
  {
   "cell_type": "code",
   "execution_count": null,
   "id": "cedb1409-877b-4beb-be38-17d61d65ab0d",
   "metadata": {},
   "outputs": [],
   "source": [
    "plot_interactive_lines(dt, \"year\", \"estabs_entry_rate\", \"sector_\")"
   ]
  },
  {
   "cell_type": "code",
   "execution_count": null,
   "id": "5bb17310-5e98-448e-b6ad-983270ed1f24",
   "metadata": {},
   "outputs": [],
   "source": [
    "plot_interactive_lines(dt, \"year\", \"estabs_exit_rate\", \"sector_\")"
   ]
  },
  {
   "cell_type": "markdown",
   "id": "54a564ce-21ee-42fe-978c-f55c7ce3f972",
   "metadata": {},
   "source": [
    "#### Average Size by Sector "
   ]
  },
  {
   "cell_type": "code",
   "execution_count": null,
   "id": "0f284ca5-21a1-4d35-8830-9118c76eb7c5",
   "metadata": {},
   "outputs": [],
   "source": [
    "dt = (dfe_s\n",
    "         .eval(\"avgsize_e = emp / estabs\")\n",
    "         .eval(\"avgsize_f = emp / firms\")\n",
    "         .assign(sector_ = dfe_s.sector.map(cat_sector))\n",
    "        )"
   ]
  },
  {
   "cell_type": "code",
   "execution_count": null,
   "id": "4bf5acf9-1d9f-45f7-8141-112db141adc2",
   "metadata": {},
   "outputs": [],
   "source": [
    "plot_interactive_lines(dt, \"year\", \"avgsize_e\", \"sector_\")"
   ]
  },
  {
   "cell_type": "code",
   "execution_count": null,
   "id": "bce9c412-6cc0-443a-956a-ede8f16ff065",
   "metadata": {},
   "outputs": [],
   "source": [
    "plot_interactive_lines(dt, \"year\", \"avgsize_f\", \"sector_\")"
   ]
  },
  {
   "cell_type": "markdown",
   "id": "bb80fc17-6310-442b-941a-9d4c7424b40f",
   "metadata": {},
   "source": [
    "#### Entry Size By Sector"
   ]
  },
  {
   "cell_type": "code",
   "execution_count": null,
   "id": "c0ed5ec5-85d9-4c5c-b68d-715486b59f80",
   "metadata": {},
   "outputs": [],
   "source": [
    "entry_age = \"a) 0\"\n",
    "dt = (dfe_sa\n",
    "         .eval(\"avgsize_e = emp / estabs\")\n",
    "         .eval(\"avgsize_f = emp / firms\")\n",
    "         .assign(sector_ = dfe_sa.sector.map(cat_sector))\n",
    "         .query('eage == @entry_age')\n",
    "        )"
   ]
  },
  {
   "cell_type": "code",
   "execution_count": null,
   "id": "ff45dd68-4b2e-4126-8025-de6c6bbd4c72",
   "metadata": {},
   "outputs": [],
   "source": [
    "plot_interactive_lines(dt, \"year\", \"avgsize_e\", \"sector_\")"
   ]
  },
  {
   "cell_type": "code",
   "execution_count": null,
   "id": "0c24d36a-86dc-4276-8bcd-8e562e8944ca",
   "metadata": {},
   "outputs": [],
   "source": [
    "plot_interactive_lines(dt, \"year\", \"avgsize_f\", \"sector_\")"
   ]
  },
  {
   "cell_type": "code",
   "execution_count": null,
   "id": "bec210dc-2c3d-444e-aa91-ddf2b91159a5",
   "metadata": {},
   "outputs": [],
   "source": []
  }
 ],
 "metadata": {
  "kernelspec": {
   "display_name": "Python 3.8",
   "language": "python",
   "name": "python3"
  },
  "language_info": {
   "codemirror_mode": {
    "name": "ipython",
    "version": 3
   },
   "file_extension": ".py",
   "mimetype": "text/x-python",
   "name": "python",
   "nbconvert_exporter": "python",
   "pygments_lexer": "ipython3",
   "version": "3.8.10"
  }
 },
 "nbformat": 4,
 "nbformat_minor": 5
}
