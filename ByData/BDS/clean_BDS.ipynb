{
 "cells": [
  {
   "cell_type": "code",
   "execution_count": null,
   "id": "dcee7bbf-372d-483c-a358-af6c961b0f23",
   "metadata": {},
   "outputs": [],
   "source": [
    "from util.plot import plot_interactive_lines"
   ]
  },
  {
   "cell_type": "markdown",
   "id": "fb621c7a-6830-4b80-9dae-43b05f794496",
   "metadata": {
    "tags": []
   },
   "source": [
    "## BDS (CSV Data)"
   ]
  },
  {
   "cell_type": "markdown",
   "id": "475e743d-ec2a-4734-be6d-a0a1798d2dfe",
   "metadata": {
    "tags": []
   },
   "source": [
    "### Download"
   ]
  },
  {
   "cell_type": "markdown",
   "id": "55745abf-3e35-42e7-b92d-d13b8fd3dade",
   "metadata": {},
   "source": [
    "https://www.census.gov/data/datasets/time-series/econ/bds/bds-datasets.html"
   ]
  },
  {
   "cell_type": "code",
   "execution_count": null,
   "id": "692d7696-345f-4c92-9574-cfb62130cdc0",
   "metadata": {},
   "outputs": [],
   "source": [
    "base_url = \"https://www2.census.gov/programs-surveys/bds/tables/time-series/\""
   ]
  },
  {
   "cell_type": "code",
   "execution_count": null,
   "id": "e6ec84de-3803-40d1-8f65-feae0f94ee6e",
   "metadata": {},
   "outputs": [],
   "source": [
    "year = 2019"
   ]
  },
  {
   "cell_type": "code",
   "execution_count": null,
   "id": "2e541ee3-8de7-49c5-b8d4-c0eaf0ce02ed",
   "metadata": {},
   "outputs": [],
   "source": [
    "dfe_s = pd.read_csv(base_url+f\"bds{year}_sec.csv\")"
   ]
  },
  {
   "cell_type": "code",
   "execution_count": null,
   "id": "10dddbcb-6c3d-4f92-b0bb-c4a84c7f1ed2",
   "metadata": {},
   "outputs": [],
   "source": [
    "dfe_az = pd.read_csv(base_url+f\"bds{year}_ea_ez.csv\")"
   ]
  },
  {
   "cell_type": "code",
   "execution_count": null,
   "id": "8f888f1d-748a-4507-8826-0179122f9ef3",
   "metadata": {},
   "outputs": [],
   "source": [
    "dfe_sa = pd.read_csv(base_url+f\"bds{year}_sec_ea.csv\")"
   ]
  },
  {
   "cell_type": "markdown",
   "id": "6b54e66d-1482-4efd-a13b-05e2af4b1685",
   "metadata": {},
   "source": [
    "### Categories\n",
    "\n",
    "https://www.census.gov/content/dam/Census/programs-surveys/business-dynamics-statistics/codebook-glossary.pdf"
   ]
  },
  {
   "cell_type": "code",
   "execution_count": null,
   "id": "76963d48-fe05-43a0-b0dc-958727ca6e1e",
   "metadata": {},
   "outputs": [],
   "source": [
    "# although in BDS 2019 they make the glossary in a pdf, \n",
    "# we can still use the web archive\n",
    "# I have not done a thorough check but it seems the code does not change\n",
    "# cat_tables = pd.read_html(\"https://www.census.gov/programs-surveys/bds/documentation/glossary.html\")\n",
    "cat_tables = pd.read_html(\"https://web.archive.org/web/20210319075210/https://www.census.gov/programs-surveys/bds/documentation/glossary.html\")\n",
    "\n",
    "cat_e_age, cat_e_size, cat_f_age, cat_f_size, cat_nonmetro, cat_sector, cat_state = [\n",
    "    i.dropna(axis=1, how=\"all\") for i in cat_tables[2:]\n",
    "]\n",
    "\n",
    "cat_sector = cat_sector.set_index(0).iloc[1:,0].to_dict()\n",
    "\n",
    "# eage and fage have same categories \n",
    "cat_age = cat_e_age.set_index(0).iloc[2:,0].to_dict()\n",
    "cat_agecoarse = cat_e_age.set_index(3).iloc[2:2+5,3].to_dict()\n",
    "\n",
    "cat_esize = cat_e_size.set_index(0).iloc[2:,0].to_dict()\n",
    "cat_fsize = cat_f_size.set_index(0).iloc[2:,0].to_dict()\n",
    "# sizecoarse is same for esize and fsize\n",
    "cat_sizecoarse = cat_e_size.set_index(3).iloc[2:2+3,3].to_dict()\n",
    "\n",
    "cat_state_ = pd.DataFrame()\n",
    "for i in range(4):\n",
    "    i = i*2\n",
    "    cat_state_ = pd.concat([cat_state_, cat_state.loc[1:,i:i+1].set_axis([0,1],axis=1)], \n",
    "                           axis=0, ignore_index=True)\n",
    "cat_state = cat_state_.set_index(0).iloc[:-4,0].to_dict()\n",
    "\n",
    "# TO-DO: msa; ...\n",
    "\n",
    "BDS_cats = {\"cat_sector\":cat_sector,\n",
    "            \"cat_age\":cat_age, \"cat_agecoarse\":cat_agecoarse,\n",
    "            \"cat_esize\":cat_esize, \"cat_fsize\":cat_fsize, \"cat_sizecoarse\":cat_sizecoarse,\n",
    "            \"cat_state\":cat_state,\n",
    "           }\n",
    "\n",
    "# # save cats for other use\n",
    "# from util.io import write_file\n",
    "# write_file(BDS_cats, \"util/BDS_cats.pkl\")"
   ]
  },
  {
   "cell_type": "markdown",
   "id": "ee32fe4e-8188-4f52-9a1f-17d9ce577310",
   "metadata": {},
   "source": [
    "### BDS Methodology\n",
    "\n",
    "https://www.census.gov/programs-surveys/bds/documentation/methodology.html"
   ]
  },
  {
   "cell_type": "markdown",
   "id": "bd6ace35-7321-4ced-a070-50b6693001de",
   "metadata": {},
   "source": [
    "#### Concepts and Methodology"
   ]
  },
  {
   "cell_type": "markdown",
   "id": "147db9d9-22e1-48fb-ac26-3e99793e26b7",
   "metadata": {},
   "source": [
    "The BDS data measure the **net change in employment at the establishment level**. These changes come about in one of four ways. \n",
    "- A net increase in employment can come from either opening establishments or expanding establishments. (sum of all jobs added as gross job gains)\n",
    "- A net decrease in employment can come from either closing establishments or contracting establishments. (sum of all jobs lost as gross job losses)\n",
    "- The net change in employment is the difference between gross job gains and gross job losses.\n",
    "\n",
    "The **formal definitions of employment changes** are as follows:\n",
    "- Job Creation (JC) – Job creation is the sum of all employment gains from expanding establishments from year t–1 to year t including establishment startups. Note that the contribution of firm births can be measured by using the job creation from establishments with firm age equal to zero.\n",
    "- Job Destruction (JD) – Job destruction is the sum of all employment losses from contracting establishments from year t–1 to year t including establishments shutting down.\n",
    "\n",
    "Some **simple identities** are useful to note to interpret and use these statistics. \n",
    "- Let $E_{i t}$ be employment in year $t$ for establishment $i$. Define **establishment-level employment growth** as follows:\n",
    "$$\n",
    "g_{i t}=\\left(E_{i t}-E_{i t-1}\\right) / X_{i t}\n",
    "$$\n",
    "where\n",
    "$$\n",
    "X_{i t}=0.5 *\\left(E_{i t}+E_{i t-1}\\right)\n",
    "$$\n",
    "- This growth rate measure has become *standard in analysis of establishment and firm dynamics because it shares some useful properties of log differences but also accommodates entry and exit* (see Davis, Haltiwanger and Schuh [1996], and Tornquist, Vartia, and Vartia [1985]). \n",
    "- The above definitions of **JC and JD** for establishments classified in **group $s$** (e.g., a firm size, firm age category) are given by:\n",
    "$$\n",
    "J C_{s t}=\\sum_{i \\in s, g_{i t} \\geq 0}\\left(E_{i t}-E_{i t-1}\\right) \\quad J D_{s t}=\\sum_{i \\in s, g_{i t}<0}\\left(E_{i t}-E_{i t-1}\\right)\n",
    "$$\n",
    "- The **net change in employment** for establishments in group $s$ satisfies the following identity:\n",
    "$$\n",
    "N E T_{s t}=J C_{s t}-J D_{s t}=\\sum_{i \\in s, g_{i t} \\geq 0}\\left(E_{i t}-E_{i t-1}\\right)-\\sum_{i \\in s, g_{i t}<0}\\left(E_{i t}-E_{i t-1}\\right)\n",
    "$$\n",
    "- For **growth rates**, the analagous relationships are given by:\n",
    "$$\n",
    "\\begin{gathered}\n",
    "J C R_{s t}=\\sum_{i \\in s, g_{i t} \\geq 0}\\left(X_{i t} / X_{s t}\\right) g_{i t}=J C_{s t} / X_{s t} \\quad J D R_{s t}=\\sum_{i \\in s, g_{i t}<0}\\left(X_{i t} / X_{s t}\\right)\\left|g_{i t}\\right|=J D_{s t} / X_{s t} \\\\\n",
    "N E T R_{s t}=\\sum_{i \\in s}\\left(X_{i t} / X_{s t}\\right) g_{i t}=N E T_{s t} / X_{s t}=\\left(J C_{s t}-J D_{s t}\\right) / X_{s t}\n",
    "\\end{gathered}\n",
    "$$\n",
    "where $X_{s t}=\\sum_{i \\in s} X_{i t}$\n",
    "  - The latter variable $X_{s t}$ denotes the sum of average employment over a consecutive two-year period and as is clear from the above it is simple to convert the changes to rates by dividing the relevant measures by this variable. Note that in general the variable $X_{s t}$ for a particular classification is not equal to the simple average of the employment variable using the current and prior year since establishments are assigned the characteristics of the firm that owns the establishment in $t$ and this may have changed from year $t-1$ to year $t$.\n",
    "- The *employment measure used for the tabulations is the number of employees at the establishment for the payroll period including March 12. As such, all growth rates are based on March–to–March changes and the tabulations for a given year are the changes from the prior year to the current year.* \n",
    "  - An establishment opening or entrant is an establishment with positive employment in the current year and zero employment in the prior year. \n",
    "  - An establishment closing or exit is an establishment with zero employment in the current year and positive employment in the prior year. \n",
    "  - The vast majority of establishment openings are true greenfield entrants. Similarly, the vast majority of establishment closings are true establishment exits (i.e., operations ceased at this physical location). However, *there are a small number of establishments that temporarily shutdown (i.e., have a year with zero employment) and these are excluded from the counts of establishment openings and closings*.\n",
    "\n",
    "In the released series, the job flow measures are provided in terms of both level changes (e.g., the number of jobs) as well as rates using the above denominator as described above to convert level changes to rates. In addition, the number of establishments in each of the categories of change (openings, closings, continuers) and the classifications (e.g., firm size, firm age, etc.) is provided which permits tracking the gross and net flows of the number of establishments. The decomposition into openings, closings and continuers permits decomposing gross job creation into the component from continuing establishments that are expanding and establishment openings and decomposing gross job destruction into the component from continuing establishments that are contracting and establishment closings.\n",
    "\n",
    "It is critical to emphasize that the BDS contains measures of net and gross flows of establishments and jobs at the establishment level. \n",
    "- All establishments are, however, linked to their parent firm so that the net and gross flows of establishments and jobs can be categorized by the characteristics of the parent firm. In particular, *establishments are classified by both the size of the parent firm and age of the parent firm* as defined below. This *enables quantifying the contribution of firms by firm size and firm age in terms of establishment and job net and gross flows*. \n",
    "- For example, and of particular interest, the contribution of firm startups to the net and gross flows of establishments and jobs can be ascertained by using the tabulations of firm age zero. As described in detail on the BDS page here, establishments are assigned a firm age based upon the age of the parent firm. *The age of the parent firm is based on the age of the oldest establishment in the firm. A firm age of zero represents a firm where all establishments in the firm are entrants in that year –– hence it is a new firm.* By construction, tabulations of firm age zero represent establishment entrants that are part of a new firm. *Most new firms are single–unit firms.*\n"
   ]
  },
  {
   "cell_type": "code",
   "execution_count": null,
   "id": "9a09b2b0-1a72-4291-9284-962120ab8213",
   "metadata": {},
   "outputs": [],
   "source": []
  },
  {
   "cell_type": "markdown",
   "id": "7c6d879a-2c33-4e36-aeb1-4922cc6cc5dc",
   "metadata": {},
   "source": [
    "### BDS FAQ"
   ]
  },
  {
   "cell_type": "markdown",
   "id": "28964a84-0d78-4bba-a95e-1a3e72f5b880",
   "metadata": {},
   "source": [
    "How do I **compute the establishment entry and exit rate** using variables in the BDS tables?\n",
    "- The establishment entry rate and establishment exit rates can be computed using establishment counts provided in each BDS table. \n",
    "- *Establishment entry (exit) rates are defined as the count of establishment entrants (exits) in year t divided by the average count of employment active establishments in year t and  year t-1.* \n",
    "- However, this computation cannot be done by simply taking estab_entry in year t divided by the average estab count in year t and year t-1. *Due to year-to-year scope changes in estabs, the estab count in year t is not longitudinally consistent with the estab count in year t-1. In order to ensure that the count of year t employment active establishments are longitudinally consistent with the count of employment active estabs in year t-1, we need to apply the same scope of establishments for the pair of years.* For year t, the longitudinally consistent count of employment active establishments in year t-1 can be derived as: estabs_year t-1 = estabs year t + estabs_exit year t – estabs_entry year t\n",
    "- We can then compute the **estabs_entry_rate** as: estabs_entry_rate year t= 100*(estabs_entry year t/(0.5*(estabs year t + estabs_year t-1))\n",
    "- **Establishment exit rate** can be computed in a similar fashion as: estabs_exit_rate year t = 100*(estabs_exit year t/(0.5*(estabs year t + estabs_year t-1)))"
   ]
  },
  {
   "cell_type": "markdown",
   "id": "9fdc761b-ff88-4371-aa7c-f04e1e4c0289",
   "metadata": {},
   "source": [
    "How often is the BDS updated?\n",
    "- The BDS is updated once a year.  The timing of the BDS release is dependent upon the availability of the source files from the Business Register and the CBP program.  The final BR files are typically available in October, one year after the reference year.  The CBP program then completes its edits of the BR data files and publishes in April—about 6 months later.  Finally the BDS uses the BR and CBP files and completes its processing about 5 months later.  So BDS data are typically released in September—2 years after the reference year.     \n",
    "\n"
   ]
  },
  {
   "cell_type": "markdown",
   "id": "7c05d7ee-8837-4788-8d54-5a86b14670c9",
   "metadata": {},
   "source": [
    "Adding net flows and current employment does not yield the following year's employment. Why?\n",
    "- The discrepancies result from processing decisions required when working with longitudinal administrative data (or in this case linked cross sections).  A rolling window of establishment attributes is used to determine whether a case should be considered in scope for the BDS tabulations. Establishments can and do switch from being in scope to out of scope.  For example, an establishment may switch from an in-scope industry to an out of scope industry such as 52592 Trusts, Estates, and Agency Accounts.  In this case, the establishment would contribute to the employment stock in one year but not the next.  Moreover, as continuing establishments enter and exit the scope of the BDS, their employment is not registered as job creation and destruction.\n",
    "- In addition to scope changes, establishments may also move between by-variable categories across years.   For instance, a continuing establishment with no employment change may be classified as firm size “1 to 4” in one year and then “5 to 9” in the next.   Since firm size is the average of firm size in the current and prior year, an establishment that had 4 employees in one year and 5 in the following two years would meet this criteria.  When establishments switch between categories, the employment stocks in one cell will rise while the other declines without necessarily involving changes in employment flows (job creation or destruction).\n",
    "- Despite these nuances, the longitudinally consistent measure of employment in t-1 for the t-1 to t flows can be retrieved by the variable Denom (which is the average of employment in t-1 and t defined in a longitudinally consistent fashion at the establishment level), along with reported period t employment. It can also be retrieved by using the reported Net Job Creation level for t-1 and t along with reported employment in period t. Overall, then, reported employment in year t is relevant for the flows between t-1 and t (and so reported employment in t-1 is relevant for the flows between t-2 and t-1).\n",
    "\n"
   ]
  },
  {
   "cell_type": "markdown",
   "id": "b67491a3-2750-4061-a24e-e6c93237ee7d",
   "metadata": {},
   "source": [
    "What is the **difference between metro and metropolitan statistical area (MSA)**?\n",
    "- *Metro is a designation applied at the county level, while an MSA is a grouping of one or more metro-designated counties.*  In addition, the statistics for metro areas pool all metro counties in the U.S."
   ]
  },
  {
   "cell_type": "markdown",
   "id": "4cb82504-f9a6-42af-a777-85a1b65fafe1",
   "metadata": {},
   "source": [
    "How are startups defined? How can I identify them in the data?\n",
    "- Startups are firms with the age of 0. No previous employment is associated with these firms and all its establishments are de novo establishments.\n",
    "\n",
    "How can I identify **establishment entry** in the data?\n",
    "- **Establishment entry (“estab_entry”)** is one of the variables tabulated in the BDS.  It is *defined as the count of establishments born within the cell during the last 12 months, where “born” is defined as going from zero March 12 employment in year t-1 to positive March 12 employment in year t.*\n",
    "\n",
    "Why are there **entrants with establishment age greater than zero**?\n",
    "- Age 0 establishments are de novo establishments in the economy based on the first year of positive employment in the week that includes March 12. They are establishments classified under Establishment Age = 0.  Establishments can be entrants with age greater than zero in year t if, for example, they have positive March 12 employment in year t-3, have zero March 12 employment in both year t-2 and year t-1, and then have positive March 12 employment again in year t.\n",
    "\n",
    "What is a **firm  death**?\n",
    "- Firm  death *identifies events where all the establishments associated with a particular firm and the firm itself cease all operations.* Note that *firm legal entities that cease to exist because of merger and acquisition activity are not classified as firm exits in these data.*\n",
    "\n",
    "What are **\"Left Censored\" Firms**?\n",
    "- These are *firms born before 1976 and for which we do not know their true age.*\n",
    "\n",
    "Can the number of left censored firms increase?\n",
    "- It is not a given that the number of left censored firms and the number of establishments owned by such firms in a given year will be lower than those in the previous years. This is not hard to see once we understand that firms are legal units that can be rearranged, merged, or split into separate legal entities. Put simply, a left censored firm can be split into two left censored firms. Similarly, the acquisition or creation of new establishments by a left censored firms can result in a higher number of establishments belonging to left censored firms. Merger and acquisition activity can in principle then increase the number of left censored firms and the number of establishments owned by such firms. Note that this is not true for statistics on the number of establishments using establishment age. That is, the number of left censored establishments using establishments age must decline over time and this is true in the BDS data."
   ]
  },
  {
   "cell_type": "markdown",
   "id": "b46d5a1e-5ea8-423d-a6b2-567426befd7e",
   "metadata": {},
   "source": [
    "Why do I get different numbers for the same statistic in different tables?\n",
    "- There are a number of possible reasons for discrepancies between statistics in different tables and specifically between tables at higher levels of aggregation (e.g. economy-wide) versus tables at lower levels of aggregation (e.g., state, industry, etc.).\n",
    "- 1  Noise infusion:  Because noise is added at the cell level for certain variables, including:  job creation, job creation_births, job creation_continuers, job destruction, job destruction_deaths, job destruction_continuers, and net job creation, this can cause discrepancies in these statistics across tables.\n",
    "- 2  Rounding:  Rounding can cause some small discrepanices across tables.\n",
    "- 3  For the variables ‘firm’ and ‘firmdeath_firms’, these statistics are often smaller in the economy-wide table than as summed across tables at the lower geographic and industrial aggregations.  This is due to the fact that in the BDS, geography and industry are defined at the establishment level, and not the firm level.  So firms with multiple establishments operating in different geographies or industries will show up in the total firm data for each geography or industry in which they operate at least one establishment.  The same holds true for the variable ‘firmdeath_firms’.  This discrepancy does not apply to the other statistics in the BDS, however, because these statistics all represent tabulations of establishment-level data. // Related to this, it should be noted that in contrast to firm geography and industry—which as noted are assigned at the establishment level—firm size and age are assigned at the firm level and therefore represent the size or age of the entire firm, not just the part that operates in a given geography or industry.  A given firm, therefore, will generally only show up in the total firms data in one age or size category in a given table.  There are some exceptions to this rule for the firm size and initial size categories, as noted in the cases outlined in #4 below.\n",
    "- 4  For the statistic ‘firm’ and ‘firmdeath_firms’, there can be discrepanices in these statistics between the economy-wide table versus the firm size and initial firm size tables.  This difference is due to the fact that establishments are assigned a firm size based on the average size of their associated firm in (t) and (t-1). Initial firm size is based upon the size of the establishment's associated firm in (t-1) or, in the case of entrants, their size in (t). Importantly, an establishment's associated firm may change between periods. This means that multi-unit firms, due to merger and acquisition activity, may have establishments with different combinations (t) and (t-1) firm identifiers and thus may be assigned to different firm size and initial firm size categories. For example, suppose a large multi-unit firm acquires a small continuing single-unit firm. The acquired single-unit establishment's initial firm size in (t) will be assigned based upon the size of that single-unit in (t-1) whereas the multi-unit's other establishments will be assigned an initial firm size based on the (t-1) size of the multi-unit firm.\n",
    "- 5  The fact that cells in tables at lower levels of aggregtion are sometimes suppressed with (D) or (S), obviously means discrepancies can exist between these statistics at lower versus higher levels of aggregation."
   ]
  },
  {
   "cell_type": "code",
   "execution_count": null,
   "id": "51d751a5-1fd1-4141-9d18-334f9551bed3",
   "metadata": {},
   "outputs": [],
   "source": []
  },
  {
   "cell_type": "markdown",
   "id": "c7188c8f-ad42-447c-9bfb-f404b898e712",
   "metadata": {},
   "source": [
    "### Release Note"
   ]
  },
  {
   "cell_type": "markdown",
   "id": "9be92b45-e691-403d-a261-2773aeadc14d",
   "metadata": {},
   "source": [
    "#### 2019 BDS Release Note\n",
    "\n",
    "https://www2.census.gov/programs-surveys/bds/updates/bds2019-release-note.pdf"
   ]
  },
  {
   "cell_type": "code",
   "execution_count": null,
   "id": "4bfec98e-18e8-431f-9a29-63636fb9e0dd",
   "metadata": {},
   "outputs": [],
   "source": []
  },
  {
   "cell_type": "markdown",
   "id": "69b8aa09-25b8-4407-8eb9-711fd95e1b1e",
   "metadata": {
    "tags": []
   },
   "source": [
    "### Explore\n",
    "\n",
    "(experimental explore // should create clean functions here and make another notebook for exploration)"
   ]
  },
  {
   "cell_type": "markdown",
   "id": "956afe8c-4947-48c1-8997-ad0a90446872",
   "metadata": {},
   "source": [
    "#### Entry/Exit Rate by Sector"
   ]
  },
  {
   "cell_type": "code",
   "execution_count": null,
   "id": "1aa5e211-94e5-4bb4-a19d-5854821c8f41",
   "metadata": {},
   "outputs": [],
   "source": [
    "dt = dfe_s.assign(sector_ = dfe_s.sector.map(cat_sector))"
   ]
  },
  {
   "cell_type": "code",
   "execution_count": null,
   "id": "cedb1409-877b-4beb-be38-17d61d65ab0d",
   "metadata": {},
   "outputs": [],
   "source": [
    "plot_interactive_lines(dt, \"year\", \"estabs_entry_rate\", \"sector_\")"
   ]
  },
  {
   "cell_type": "code",
   "execution_count": null,
   "id": "5bb17310-5e98-448e-b6ad-983270ed1f24",
   "metadata": {},
   "outputs": [],
   "source": [
    "plot_interactive_lines(dt, \"year\", \"estabs_exit_rate\", \"sector_\")"
   ]
  },
  {
   "cell_type": "markdown",
   "id": "54a564ce-21ee-42fe-978c-f55c7ce3f972",
   "metadata": {},
   "source": [
    "#### Average Size by Sector "
   ]
  },
  {
   "cell_type": "code",
   "execution_count": null,
   "id": "0f284ca5-21a1-4d35-8830-9118c76eb7c5",
   "metadata": {},
   "outputs": [],
   "source": [
    "dt = (dfe_s\n",
    "         .eval(\"avgsize_e = emp / estabs\")\n",
    "         .eval(\"avgsize_f = emp / firms\")\n",
    "         .assign(sector_ = dfe_s.sector.map(cat_sector))\n",
    "        )"
   ]
  },
  {
   "cell_type": "code",
   "execution_count": null,
   "id": "4bf5acf9-1d9f-45f7-8141-112db141adc2",
   "metadata": {},
   "outputs": [],
   "source": [
    "plot_interactive_lines(dt, \"year\", \"avgsize_e\", \"sector_\")"
   ]
  },
  {
   "cell_type": "code",
   "execution_count": null,
   "id": "bce9c412-6cc0-443a-956a-ede8f16ff065",
   "metadata": {},
   "outputs": [],
   "source": [
    "plot_interactive_lines(dt, \"year\", \"avgsize_f\", \"sector_\")"
   ]
  },
  {
   "cell_type": "markdown",
   "id": "bb80fc17-6310-442b-941a-9d4c7424b40f",
   "metadata": {},
   "source": [
    "#### Entry Size By Sector"
   ]
  },
  {
   "cell_type": "code",
   "execution_count": null,
   "id": "c0ed5ec5-85d9-4c5c-b68d-715486b59f80",
   "metadata": {},
   "outputs": [],
   "source": [
    "entry_age = \"a) 0\"\n",
    "dt = (dfe_sa\n",
    "         .eval(\"avgsize_e = emp / estabs\")\n",
    "         .eval(\"avgsize_f = emp / firms\")\n",
    "         .assign(sector_ = dfe_sa.sector.map(cat_sector))\n",
    "         .query('eage == @entry_age')\n",
    "        )"
   ]
  },
  {
   "cell_type": "code",
   "execution_count": null,
   "id": "ff45dd68-4b2e-4126-8025-de6c6bbd4c72",
   "metadata": {},
   "outputs": [],
   "source": [
    "plot_interactive_lines(dt, \"year\", \"avgsize_e\", \"sector_\")"
   ]
  },
  {
   "cell_type": "code",
   "execution_count": null,
   "id": "0c24d36a-86dc-4276-8bcd-8e562e8944ca",
   "metadata": {},
   "outputs": [],
   "source": [
    "plot_interactive_lines(dt, \"year\", \"avgsize_f\", \"sector_\")"
   ]
  },
  {
   "cell_type": "code",
   "execution_count": null,
   "id": "bec210dc-2c3d-444e-aa91-ddf2b91159a5",
   "metadata": {},
   "outputs": [],
   "source": []
  }
 ],
 "metadata": {
  "kernelspec": {
   "display_name": "Python 3.8",
   "language": "python",
   "name": "python3"
  },
  "language_info": {
   "codemirror_mode": {
    "name": "ipython",
    "version": 3
   },
   "file_extension": ".py",
   "mimetype": "text/x-python",
   "name": "python",
   "nbconvert_exporter": "python",
   "pygments_lexer": "ipython3",
   "version": "3.8.12"
  }
 },
 "nbformat": 4,
 "nbformat_minor": 5
}
