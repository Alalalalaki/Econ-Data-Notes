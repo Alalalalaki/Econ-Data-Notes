{
 "cells": [
  {
   "cell_type": "markdown",
   "id": "local-mounting",
   "metadata": {},
   "source": [
    "# Explore PWT Data"
   ]
  },
  {
   "cell_type": "markdown",
   "id": "laden-conviction",
   "metadata": {},
   "source": [
    "## Setup"
   ]
  },
  {
   "cell_type": "code",
   "execution_count": null,
   "id": "specialized-thailand",
   "metadata": {},
   "outputs": [],
   "source": [
    "from util.plot import plot_interactive_lines,plot_scatter_with_text\n",
    "from labellines import labelLine, labelLines"
   ]
  },
  {
   "cell_type": "markdown",
   "id": "mysterious-limit",
   "metadata": {},
   "source": [
    "## Basic (Development) Income Accounting\n",
    "\n",
    "Following Julieta Caunedo's lecture in STEG\n",
    "\n",
    "Income accounting: $$\\ln \\left(\\frac{Y}{L}\\right)=\\ln (Z)+\\frac{\\alpha}{1-\\alpha} \\ln \\left(\\frac{K}{Y}\\right)+\\ln \\left(\\frac{H}{L}\\right)$$"
   ]
  },
  {
   "cell_type": "markdown",
   "id": "secure-ancient",
   "metadata": {},
   "source": [
    "### Setup data"
   ]
  },
  {
   "cell_type": "code",
   "execution_count": null,
   "id": "interesting-princess",
   "metadata": {},
   "outputs": [],
   "source": [
    "# read PWT10.0 data\n",
    "df_PWT = pd.read_stata(\"https://www.rug.nl/ggdc/docs/pwt100.dta\")"
   ]
  },
  {
   "cell_type": "code",
   "execution_count": null,
   "id": "indirect-caribbean",
   "metadata": {},
   "outputs": [],
   "source": [
    "# read WDI natural resource rents data from Julieta Caunedo's repo\n",
    "url_NR = \"https://github.com/julicaunedo/STEG_Lecture2/blob/main/natural_resources.dta?raw=true\"\n",
    "df_NR = pd.read_stata(url_NR)"
   ]
  },
  {
   "cell_type": "code",
   "execution_count": null,
   "id": "parliamentary-antibody",
   "metadata": {
    "tags": []
   },
   "outputs": [],
   "source": [
    "# merge two data\n",
    "df = df_PWT.merge(df_NR, on=[\"countrycode\", \"year\"], how=\"left\")"
   ]
  },
  {
   "cell_type": "code",
   "execution_count": null,
   "id": "imperial-sixth",
   "metadata": {},
   "outputs": [],
   "source": [
    "##relevant variables\n",
    "\n",
    "# real PPP (in mil 2017US$)\n",
    "# PWT capital corresponds to reproducible capital\n",
    "\n",
    "# Output: rgdpo\n",
    "# Human Capital (per worker): hc\n",
    "# Labor Inputs/Workers: emp\n",
    "# Average hours: avh\n",
    "# Capital stock: cn\n",
    "\n",
    "\n",
    "alpha = 1 / 3  # capital share H&Jones\n",
    "year_base = 2017\n",
    "\n",
    "# adjustment for natural resources on GDP.\n",
    "# assuming one uses the same deflator for GDP and nat_res\n",
    "df = df.eval(\n",
    "    \"\"\"\n",
    "    rgdpo = (1-natural_res/100)*rgdpo\n",
    "    cgdpo = (1-natural_res/100)*cgdpo\n",
    "\"\"\"\n",
    ")\n",
    "\n",
    "# income accounting variables\n",
    "# Jones uses employment measures, not average hours(were not available back then)\n",
    "# Capital denominated at current PPP $ so capital-output ratio computed using cgdpo\n",
    "df = df.eval(\n",
    "    \"\"\"\n",
    "    output_per_worker = log(rgdpo/(emp))\n",
    "    output_per_worker_hour = log(rgdpo/(emp*avh))\n",
    "    output_per_worker_PPPc = log(cgdpo/(emp))\n",
    "    output_per_worker_XRc = log(cgdpo*pl_gdpo/(emp))\n",
    "    \n",
    "    capital_output_ratio = log(cn/cgdpo)*@alpha/(1-@alpha)\n",
    "    human_capital_per_worker = log(hc)\n",
    "\n",
    "    tfp_resid = output_per_worker-capital_output_ratio-human_capital_per_worker\n",
    "\n",
    "    capital_output_ratio_sh = log(cn/cgdpo)*(1-labsh)/(labsh)\n",
    "    tfp_resid_labsh = output_per_worker-capital_output_ratio_sh-human_capital_per_worker\n",
    "\"\"\"\n",
    ")\n",
    "# Can use Capital services instead of astocks is desired.\n",
    "country_average_cn = df.groupby(\"year\")[\"cn\"].transform(\"mean\")\n",
    "df = df.eval(\n",
    "    \"\"\"\n",
    "    capserv_output_ratio = log(@country_average_cn*ck/cgdpo)*@alpha/(1-@alpha)\n",
    "\"\"\"\n",
    ")\n",
    "\n",
    "# normalized accounting variables, with USA=1\n",
    "cols = [\n",
    "    \"output_per_worker\",\n",
    "    \"output_per_worker_hour\",\n",
    "    \"output_per_worker_PPPc\",\n",
    "    \"output_per_worker_XRc\",\n",
    "    \"capital_output_ratio\",\n",
    "    \"capital_output_ratio_sh\",\n",
    "    \"capserv_output_ratio\",\n",
    "    \"human_capital_per_worker\",\n",
    "    \"tfp_resid\",\n",
    "    \"tfp_resid_labsh\",\n",
    "]\n",
    "norm_values = (\n",
    "    (\n",
    "        pd.concat((df[[\"countrycode\", \"year\"]], df[cols].apply(np.exp)), axis=1)\n",
    "        .groupby(\"year\")\n",
    "        .apply(\n",
    "            lambda x: x.set_index(\"countrycode\")\n",
    "            .drop(\"year\", axis=1)\n",
    "            .apply(lambda x: x / x[\"USA\"])\n",
    "        )\n",
    "    )\n",
    "    .rename(columns=lambda x: \"norm_\" + x)\n",
    "    .reset_index()\n",
    ")\n",
    "df = df.merge(norm_values, on=[\"countrycode\", \"year\"])"
   ]
  },
  {
   "cell_type": "markdown",
   "id": "political-photographer",
   "metadata": {},
   "source": [
    "### Balassa-Samuelson effect"
   ]
  },
  {
   "cell_type": "code",
   "execution_count": null,
   "id": "competitive-junior",
   "metadata": {},
   "outputs": [],
   "source": [
    "df_temp = df.query('year==@year_base & countrycode in [\"ARG\", \"CHN\", \"FIN\", \"USA\"]')"
   ]
  },
  {
   "cell_type": "code",
   "execution_count": null,
   "id": "minimal-mother",
   "metadata": {},
   "outputs": [],
   "source": [
    "ax = (\n",
    "    df_temp.set_index([\"country\", \"year\"])[\n",
    "        [\"output_per_worker_PPPc\", \"output_per_worker_XRc\"]\n",
    "    ]\n",
    "    .rename_axis(\"var\", axis=1).stack().rename(\"value\").reset_index()\n",
    "    .pipe(\n",
    "        (sns.catplot, \"data\"), kind=\"bar\",\n",
    "        x=\"country\", y=\"value\", hue=\"var\",\n",
    "        alpha=0.7, \n",
    "    )\n",
    ")\n",
    "ax.set(xlabel=\"\", \n",
    "       ylabel=f\"Log Output per worker {year_base}, current 2017 US$ (USA=1)\",\n",
    "       ylim=(0,15)\n",
    "      );"
   ]
  },
  {
   "cell_type": "code",
   "execution_count": null,
   "id": "european-message",
   "metadata": {},
   "outputs": [],
   "source": [
    "def plot_scatter_with_text(\n",
    "        data, x, y, z, hue=None, style=None,\n",
    "        text_condition=None, text_adjust=False, adjust_precision=0.1):\n",
    "    \"\"\"\n",
    "    Use seaborn, matplotlib and adjustText to plot scatter with text\n",
    "    \"\"\"\n",
    "    data = data.copy().reset_index(drop=True)\n",
    "    ax = sns.scatterplot(data=data, x=x, y=y, hue=hue, style=style)\n",
    "    if isinstance(text_condition, pd.Series):\n",
    "        data = data[text_condition].reset_index(drop=True)\n",
    "    texts = [ax.annotate(text, (data.loc[i, x], data.loc[i, y])) for i, text in enumerate(data[z].values)]\n",
    "    if text_adjust:\n",
    "        adjust_text(texts, precision=adjust_precision)\n",
    "    return ax"
   ]
  },
  {
   "cell_type": "markdown",
   "id": "packed-citation",
   "metadata": {},
   "source": [
    "### Working hour and development"
   ]
  },
  {
   "cell_type": "code",
   "execution_count": null,
   "id": "saved-support",
   "metadata": {},
   "outputs": [],
   "source": [
    "df_temp = df.query('year==@year_base')\n",
    "\n",
    "plot_scatter_with_text(df_temp,\"output_per_worker\",\"avh\",\"countrycode\",)\n",
    "\n",
    "df.plot.scatter(\"output_per_worker\", \"avh\");"
   ]
  },
  {
   "cell_type": "markdown",
   "id": "purple-portable",
   "metadata": {},
   "source": [
    "### Income contributions"
   ]
  },
  {
   "cell_type": "code",
   "execution_count": null,
   "id": "occupied-shirt",
   "metadata": {},
   "outputs": [],
   "source": [
    "df = df.eval(\n",
    "    \"\"\"\n",
    "    overall_diff = 1/norm_output_per_worker\n",
    "    contrib_capital = 1/norm_capital_output_ratio\n",
    "    contrib_capital_sh = 1/norm_capital_output_ratio_sh\n",
    "    contrib_capital_serv = 1/norm_capserv_output_ratio\n",
    "    contrib_labor = 1/norm_human_capital_per_worker\n",
    "    contrib_TFP = 1/norm_tfp_resid\n",
    "    share_due_to_TFP = contrib_TFP/(contrib_TFP+(contrib_labor*contrib_capital))\n",
    "    share_due_to_hcap=contrib_labor/(contrib_labor+contrib_capital)*(1-share_due_to_TFP)\n",
    "    share_due_to_cap=contrib_capital/(contrib_capital+contrib_labor)*(1-share_due_to_TFP)\n",
    "\"\"\"\n",
    ")"
   ]
  },
  {
   "cell_type": "code",
   "execution_count": null,
   "id": "instant-milton",
   "metadata": {},
   "outputs": [],
   "source": [
    "countries = [\"USA\",\"HKG\",\"SGP\",\"FRA\",\"DEU\",\"GBR\",\"JPN\",\"KOR\",\"ARG\",\"MEX\",\n",
    "\"BWA\",\"ZAF\",\"BRA\",\"THA\",\"CHN\",\"IDN\",\"IND\",\"KEN\",\"MWI\"] \n",
    "prints(df.query('year==@year_base & countrycode in @countries')[\n",
    "    [\n",
    "        \"country\",\n",
    "        \"norm_output_per_worker\",\n",
    "        \"norm_capital_output_ratio\",\n",
    "        \"norm_human_capital_per_worker\",\n",
    "        \"norm_tfp_resid\",\n",
    "        \"share_due_to_TFP\",\n",
    "    ]\n",
    "].dropna().sort_values(\"norm_output_per_worker\", ascending=False).reset_index(drop=True).set_axis(\n",
    "    [\"Country\", \"Y/L\", \"(K/Y)^(α/(1-α))\", \"H/L\", \"Z\",\"share due to TFP\"], axis=1\n",
    "))"
   ]
  },
  {
   "cell_type": "code",
   "execution_count": null,
   "id": "temporal-investment",
   "metadata": {},
   "outputs": [],
   "source": [
    "ax = plot_scatter_with_text(\n",
    "    df.query('year==@year_base'),\n",
    "    \"norm_output_per_worker_PPPc\",\n",
    "    \"share_due_to_TFP\",\n",
    "    \"countrycode\",\n",
    ")\n",
    "plt.xscale('log',base=2)\n",
    "ax.set(xticks=[1/32,1/16,1/8,1/4,1/2,1,2], \n",
    "       xticklabels=[\"1/32\",\"1/16\",\"1/8\",\"1/4\",\"1/2\",\"1\",\"2\"]);"
   ]
  },
  {
   "cell_type": "code",
   "execution_count": null,
   "id": "respective-eligibility",
   "metadata": {},
   "outputs": [],
   "source": [
    "(df.groupby(\"year\")[[\"share_due_to_TFP\",\"share_due_to_hcap\",\"share_due_to_cap\"]]\n",
    "   .apply(lambda x: x.dropna().median())\n",
    "   .plot(ylim=(0,1))\n",
    ")"
   ]
  },
  {
   "cell_type": "markdown",
   "id": "optimum-skating",
   "metadata": {},
   "source": [
    "## US-European Divergence?\n",
    "\n",
    "A recent blog [post](https://johnhcochrane.blogspot.com/2021/03/the-puzzle-of-europe.html?spref=tw) shows a puzzle of Europe decline (GDP per capita) comparing to US. The PMT data shows that it is not the case using GDP per worker. Moreover, a recent decline since around 2010 can be largely explained by the change in average working hours. Actually, most countries decline its average working hour in the recent decade while US somehow maintains its level. \n",
    "\n",
    "On the other hand, the decline in Japan and Greece is quite significant."
   ]
  },
  {
   "cell_type": "code",
   "execution_count": null,
   "id": "angry-freeze",
   "metadata": {},
   "outputs": [],
   "source": [
    "countries = [\"USA\",\"FRA\",\"DEU\",\"GBR\",\"SWE\",\"ITA\",\"GRC\",\"ESP\",\"JPN\",]\n",
    "df_temp = (df.query('countrycode in @countries')\n",
    "             .pivot(\"year\",\"countrycode\",\"output_per_worker\")\n",
    "             .dropna().apply(np.exp)\n",
    "          )"
   ]
  },
  {
   "cell_type": "code",
   "execution_count": null,
   "id": "restricted-egypt",
   "metadata": {},
   "outputs": [],
   "source": [
    "ax = df_temp.plot(figsize=(10,6),legend=False)\n",
    "ax.get_lines()[-1].set(lw=3)\n",
    "labelLines(ax.get_lines(), zorder=2.5);"
   ]
  },
  {
   "cell_type": "code",
   "execution_count": null,
   "id": "falling-planner",
   "metadata": {},
   "outputs": [],
   "source": [
    "ax = df_temp.apply(lambda x: x/df_temp.USA).plot(figsize=(10,6),legend=False)\n",
    "ax.get_lines()[-1].set(lw=3)\n",
    "labelLines(ax.get_lines(), zorder=2.5)\n",
    "ax.set(title=\"GDP per worker (US=1)\");"
   ]
  },
  {
   "cell_type": "code",
   "execution_count": null,
   "id": "continent-chinese",
   "metadata": {},
   "outputs": [],
   "source": [
    "df_temp = (df.query('countrycode in @countries')\n",
    "             .pivot(\"year\",\"countrycode\",\"output_per_worker_hour\")\n",
    "             .dropna().apply(np.exp)\n",
    "          )\n",
    "ax = df_temp.apply(lambda x: x/df_temp.USA).plot(figsize=(10,6),legend=False)\n",
    "ax.get_lines()[-1].set(lw=3)\n",
    "labelLines(ax.get_lines(), zorder=2.5)\n",
    "ax.set(title=\"GDP per worker x hours  (US=1)\");"
   ]
  },
  {
   "cell_type": "code",
   "execution_count": null,
   "id": "accessory-blend",
   "metadata": {},
   "outputs": [],
   "source": [
    "df_temp = (df.query('countrycode in @countries')\n",
    "             .pivot(\"year\",\"countrycode\",\"avh\")\n",
    "             .dropna()\n",
    "          )\n",
    "ax = df_temp.apply(lambda x: x/df_temp.USA).plot(figsize=(10,6),legend=False)\n",
    "ax.get_lines()[-1].set(lw=3)\n",
    "labelLines(ax.get_lines(), zorder=2.5)\n",
    "ax.set(title=\"average work hours (US=1)\");"
   ]
  },
  {
   "cell_type": "code",
   "execution_count": null,
   "id": "finnish-school",
   "metadata": {},
   "outputs": [],
   "source": [
    "countries = [\"USA\",\"HKG\",\"SGP\",\"FRA\",\"DEU\",\"GBR\",\"JPN\",\"KOR\",\"ARG\",\"MEX\",\n",
    "             \"BWA\",\"ZAF\",\"BRA\",\"THA\",\"CHN\",\"IDN\",\"IND\",\"KEN\",\"MWI\",\n",
    "             \"NOR\",\"SWE\",\"BEL\",\"ITA\",\"GRC\",\"FIN\",\"DNK\",\"ESP\"\n",
    "             \"AUS\",\"EJY\",\"TWN\"\n",
    "            ]"
   ]
  },
  {
   "cell_type": "code",
   "execution_count": null,
   "id": "personal-ministry",
   "metadata": {},
   "outputs": [],
   "source": [
    "df_temp = (df.query('countrycode in @countries')\n",
    "             .pivot(\"year\",\"countrycode\",\"avh\")\n",
    "             .dropna(axis=1,how=\"all\")\n",
    "          )\n",
    "ax = df_temp.apply(lambda x: x/df_temp.USA).plot(figsize=(10,6),legend=False)\n",
    "ax.get_lines()[-1].set(lw=3)\n",
    "labelLines(ax.get_lines(), zorder=2.5)\n",
    "ax.set(title=\"average work hours (US=1)\");"
   ]
  },
  {
   "cell_type": "code",
   "execution_count": null,
   "id": "smaller-order",
   "metadata": {},
   "outputs": [],
   "source": [
    "df_temp = df.query('year==@year_base & countrycode in @countries')\n",
    "plt.figure(figsize=(10,6))\n",
    "plot_scatter_with_text(df_temp,\"output_per_worker\",\"avh\",\"country\")\n",
    "# plot_scatter_with_text(df_temp,\"output_per_worker_hour\",\"avh\",\"country\")"
   ]
  },
  {
   "cell_type": "code",
   "execution_count": null,
   "id": "expired-waters",
   "metadata": {},
   "outputs": [],
   "source": []
  }
 ],
 "metadata": {
  "kernelspec": {
   "display_name": "Python 3.8",
   "language": "python",
   "name": "python3"
  },
  "language_info": {
   "codemirror_mode": {
    "name": "ipython",
    "version": 3
   },
   "file_extension": ".py",
   "mimetype": "text/x-python",
   "name": "python",
   "nbconvert_exporter": "python",
   "pygments_lexer": "ipython3",
   "version": "3.8.8"
  }
 },
 "nbformat": 4,
 "nbformat_minor": 5
}
