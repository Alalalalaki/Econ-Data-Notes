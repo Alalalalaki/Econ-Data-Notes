{
 "cells": [
  {
   "cell_type": "markdown",
   "id": "hired-measurement",
   "metadata": {},
   "source": [
    "This note explores downloading and cleaning KLEMS data and records the notes about the data. The formal functions to download and clean data will then be written in clean.py for further use."
   ]
  },
  {
   "cell_type": "markdown",
   "id": "opponent-innocent",
   "metadata": {},
   "source": [
    "# Clean KLEMS Data"
   ]
  },
  {
   "cell_type": "markdown",
   "id": "breeding-stanford",
   "metadata": {},
   "source": [
    "## Setup"
   ]
  },
  {
   "cell_type": "markdown",
   "id": "covered-receipt",
   "metadata": {},
   "source": [
    "## KLEMS 2017 Onwards Data"
   ]
  },
  {
   "cell_type": "markdown",
   "id": "intended-intro",
   "metadata": {},
   "source": [
    "### EU KLEMS 2019\n",
    "\n",
    "see https://euklems.eu/\n",
    "\n",
    "- 28 EU Member States and various country aggregates, Japan and the US over the period 1995-2017 (though coverage might differ across countries)\n",
    "- 40 detailed industries according to NACE Revision 2 (ISIC Revision 4) and twelve industry aggregates (including the total economy) \n",
    "  - some additional industry aggregates are reported in accordance with the industry classification in the previous releases (which originated from the NACE Rev. 1/ ISIC Rev. 3 classification)\n",
    "- two datasets, the statistical database and the analytical database\n",
    "  - the former is fully in line with National Accounts data provided by the national statistical institutes to Eurostat\n",
    "  - the latter includes supplementary data on investment flows and stocks emphasised in the recent literature concerning the importance of intangible assets\n",
    "  - The reported growth accounts in the statistical database provide a more detailed differentiation of the contribution of various capital assets types to growth: tangible information and communication (ICT) capital and non-ICT capital, and three types of intangible capital (software and databases, R&D and other intellectual property products)\n",
    "  - On top of that, additional asset types, which are not capitalised in the National Accounts, are reported in the analytical database. These asset types include additional information on innovative properties and economic competencies following the recent literature on intangible assets.\n",
    "  \n",
    "\n",
    "for details see https://euklems.eu/wp-content/uploads/2019/10/Methodology.pdf "
   ]
  },
  {
   "cell_type": "code",
   "execution_count": null,
   "id": "daily-blackberry",
   "metadata": {},
   "outputs": [],
   "source": [
    "url_GA = \"http://euklems.eu/bulk/Statistical_Growth-Accounts.csv\"\n",
    "url_NA = \"http://euklems.eu/bulk/Statistical_National-Accounts.csv\"\n",
    "url_L = \"http://euklems.eu/bulk/Statistical_Labour.csv\"\n",
    "url_K = \"http://euklems.eu/bulk/Statistical_Capital.csv\"\n",
    "url_AI = \"http://euklems.eu/bulk/Analytical_Intangibles-(suppl).csv\"\n",
    "url_AGA = \"http://euklems.eu/bulk/Analytical_Growth-Accounts.csv\""
   ]
  },
  {
   "cell_type": "code",
   "execution_count": null,
   "id": "settled-number",
   "metadata": {},
   "outputs": [],
   "source": [
    "def tidy_data(df):\n",
    "    '''\n",
    "    Tag Columns:\n",
    "      - common: country, year, code, Sort_ID, indnr\n",
    "      - L specific: gender, age, edu\n",
    "    '''\n",
    "    cols = df.columns.to_list()[:-(2017-1995+1)] # parse non-year columns\n",
    "    df = (df\n",
    "          .set_index(cols).rename_axis(\"year\",axis=1).stack()\n",
    "          .unstack('var').reset_index().rename_axis(None,axis=0)\n",
    "          .assign(year = lambda x: x.year.astype(int))\n",
    "          .drop(['db',], axis=1, errors='ignore')\n",
    "    )\n",
    "    return df"
   ]
  },
  {
   "cell_type": "code",
   "execution_count": null,
   "id": "unlimited-recycling",
   "metadata": {},
   "outputs": [],
   "source": [
    "df_NA = pd.read_csv(url_NA).pipe(tidy_data)\n",
    "df_GA = pd.read_csv(url_GA).pipe(tidy_data)\n",
    "df_L = pd.read_csv(url_L).pipe(tidy_data)\n",
    "df_K = pd.read_csv(url_K).pipe(tidy_data)\n",
    "df_AI = pd.read_csv(url_AI).pipe(tidy_data)\n",
    "df_AGA = pd.read_csv(url_AGA).pipe(tidy_data)"
   ]
  },
  {
   "cell_type": "markdown",
   "id": "further-april",
   "metadata": {},
   "source": [
    "## KLEMS Historical Data"
   ]
  },
  {
   "cell_type": "markdown",
   "id": "gentle-handy",
   "metadata": {},
   "source": [
    "### EU KLEMS 2012\n",
    "\n",
    "http://www.euklems.net/"
   ]
  },
  {
   "cell_type": "code",
   "execution_count": null,
   "id": "bigger-january",
   "metadata": {},
   "outputs": [],
   "source": []
  },
  {
   "cell_type": "markdown",
   "id": "private-church",
   "metadata": {},
   "source": [
    "### US\n",
    "\n",
    "http://www.worldklems.net/data.htm"
   ]
  },
  {
   "cell_type": "code",
   "execution_count": null,
   "id": "caring-congo",
   "metadata": {},
   "outputs": [],
   "source": []
  },
  {
   "cell_type": "markdown",
   "id": "traditional-nomination",
   "metadata": {},
   "source": [
    "### Japan\n",
    "\n",
    "http://www.worldklems.net/data.htm"
   ]
  },
  {
   "cell_type": "code",
   "execution_count": null,
   "id": "auburn-dividend",
   "metadata": {},
   "outputs": [],
   "source": []
  }
 ],
 "metadata": {
  "kernelspec": {
   "display_name": "Python 3.8",
   "language": "python",
   "name": "python3"
  },
  "language_info": {
   "codemirror_mode": {
    "name": "ipython",
    "version": 3
   },
   "file_extension": ".py",
   "mimetype": "text/x-python",
   "name": "python",
   "nbconvert_exporter": "python",
   "pygments_lexer": "ipython3",
   "version": "3.8.8"
  }
 },
 "nbformat": 4,
 "nbformat_minor": 5
}
