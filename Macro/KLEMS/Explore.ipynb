{
 "cells": [
  {
   "cell_type": "markdown",
   "metadata": {},
   "source": [
    "To-do: rewrite this notebook to be compatiable with clean.ipynb"
   ]
  },
  {
   "cell_type": "markdown",
   "metadata": {},
   "source": [
    "## Setup"
   ]
  },
  {
   "cell_type": "code",
   "execution_count": null,
   "metadata": {},
   "outputs": [],
   "source": [
    "from util.plot import plot_interactive_lines"
   ]
  },
  {
   "cell_type": "markdown",
   "metadata": {},
   "source": [
    "## KLEMS 2019 "
   ]
  },
  {
   "cell_type": "code",
   "execution_count": null,
   "metadata": {},
   "outputs": [],
   "source": [
    "temp = (\n",
    "    df_NA.query('code==\"TOT\"')\n",
    "    .eval(\"GO_per_EMP = GO / EMP\")\n",
    "    .pivot(\"year\", \"country\", \"GO_per_EMP\").pct_change()\n",
    ")"
   ]
  },
  {
   "cell_type": "code",
   "execution_count": null,
   "metadata": {},
   "outputs": [],
   "source": [
    "plot_interactive_lines(\n",
    "    data=temp.stack().rename('growth').reset_index().query('country not in [\"BG\"]'),\n",
    "    x=\"year\",y=\"growth\",hue=\"country\", point_size=15, line_size=1.5,\n",
    ")"
   ]
  },
  {
   "cell_type": "markdown",
   "metadata": {},
   "source": [
    "## KLEMS 2013 "
   ]
  },
  {
   "cell_type": "markdown",
   "metadata": {},
   "source": [
    "### Setup"
   ]
  },
  {
   "cell_type": "code",
   "execution_count": null,
   "metadata": {},
   "outputs": [],
   "source": [
    "file = pd.ExcelFile('data/JPN_wk_may_2013.xlsx') # usa_wk_apr_2013"
   ]
  },
  {
   "cell_type": "code",
   "execution_count": null,
   "metadata": {},
   "outputs": [],
   "source": [
    "file.sheet_names"
   ]
  },
  {
   "cell_type": "code",
   "execution_count": null,
   "metadata": {},
   "outputs": [],
   "source": [
    "# print variables\n",
    "prints(file.parse('Notes', usecols=[0,1])\n",
    "              .dropna(how=\"all\")\n",
    "              .set_axis([\"Variable\", \"Description\"], axis=1)\n",
    "      )"
   ]
  },
  {
   "cell_type": "code",
   "execution_count": null,
   "metadata": {},
   "outputs": [],
   "source": [
    "df = file.parse('DATA')"
   ]
  },
  {
   "cell_type": "code",
   "execution_count": null,
   "metadata": {},
   "outputs": [],
   "source": [
    "df = (df.rename(columns = lambda x: pd.to_numeric(x.replace('_',''), \n",
    "                                                       errors='ignore'))\n",
    "        )"
   ]
  },
  {
   "cell_type": "code",
   "execution_count": null,
   "metadata": {},
   "outputs": [],
   "source": [
    "# industry code\n",
    "(df.code + ' -> ' + df.desc).unique()"
   ]
  },
  {
   "cell_type": "code",
   "execution_count": null,
   "metadata": {},
   "outputs": [],
   "source": [
    "ind2d = df.code[df.code.str.contains(\"^[A-Z]\")].unique()"
   ]
  },
  {
   "cell_type": "markdown",
   "metadata": {},
   "source": [
    "### Test"
   ]
  },
  {
   "cell_type": "code",
   "execution_count": null,
   "metadata": {},
   "outputs": [],
   "source": [
    "# labor share\n",
    "var = [\"VA\", \"LAB\"]\n",
    "ind = \"TOT\"\n",
    "(df.query(\"Variable in @var & code in @ind\")\n",
    "      .drop([\"desc\",\"code\"],axis=1).set_index(\"Variable\").T\n",
    "      .eval(\"labor_share = LAB / VA\")\n",
    ").plot(y=\"labor_share\");"
   ]
  },
  {
   "cell_type": "code",
   "execution_count": null,
   "metadata": {},
   "outputs": [],
   "source": [
    "# labor share by 2-digit industries\n",
    "temp = (df.query(\"Variable in @var & code in @ind2d\").drop([\"desc\"],axis=1)\n",
    "      .groupby(\"code\").apply(lambda x: x.set_index(\"Variable\").T.eval('LAB/VA')).stack()\n",
    "      .reset_index().set_axis([\"IND\",\"YEAR\",\"LABOR_SHARE\"], axis=1)\n",
    ")\n",
    "selection = alt.selection_multi(fields=['IND'], bind='legend')\n",
    "alt.Chart(temp).mark_line().encode(\n",
    "    x='YEAR',\n",
    "    y='LABOR_SHARE',\n",
    "    color='IND',\n",
    "    tooltip=['IND',],\n",
    "    opacity=alt.condition(selection, alt.value(1), alt.value(0.2)),\n",
    ").add_selection(selection)"
   ]
  },
  {
   "cell_type": "code",
   "execution_count": null,
   "metadata": {},
   "outputs": [],
   "source": [
    "# calculate labor productivity on Value-added\n",
    "var = [\"VA\", \"H_EMP\"]\n",
    "ind = \"TOT\"\n",
    "(df.query(\"Variable in @var & code in @ind\")\n",
    "      .drop([\"desc\",\"code\"],axis=1).set_index(\"Variable\").T\n",
    "      .eval(\"labor_P = VA / H_EMP\")\n",
    "      .pct_change()\n",
    ").plot(y=\"labor_P\");"
   ]
  },
  {
   "cell_type": "code",
   "execution_count": null,
   "metadata": {},
   "outputs": [],
   "source": [
    "# plot TFP on Value-added in data\n",
    "var = [\"TFPva_I\"]\n",
    "(df.query(\"Variable in @var & code in @ind\")\n",
    "      .drop([\"desc\",\"code\"],axis=1).set_index(\"Variable\").T\n",
    "      .pct_change()\n",
    ").plot();"
   ]
  },
  {
   "cell_type": "code",
   "execution_count": null,
   "metadata": {},
   "outputs": [],
   "source": []
  }
 ],
 "metadata": {
  "kernelspec": {
   "display_name": "Python 3.8",
   "language": "python",
   "name": "python3"
  },
  "language_info": {
   "codemirror_mode": {
    "name": "ipython",
    "version": 3
   },
   "file_extension": ".py",
   "mimetype": "text/x-python",
   "name": "python",
   "nbconvert_exporter": "python",
   "pygments_lexer": "ipython3",
   "version": "3.8.8"
  },
  "toc-autonumbering": false,
  "toc-showcode": false,
  "toc-showmarkdowntxt": false,
  "toc-showtags": false
 },
 "nbformat": 4,
 "nbformat_minor": 4
}
