{
 "cells": [
  {
   "cell_type": "markdown",
   "metadata": {},
   "source": [
    "## Japan"
   ]
  },
  {
   "cell_type": "markdown",
   "metadata": {},
   "source": [
    "### Setup"
   ]
  },
  {
   "cell_type": "code",
   "execution_count": null,
   "metadata": {},
   "outputs": [],
   "source": [
    "file_jp = pd.ExcelFile('JPN_wk_may_2013.xlsx')"
   ]
  },
  {
   "cell_type": "code",
   "execution_count": null,
   "metadata": {},
   "outputs": [],
   "source": [
    "file_jp.sheet_names"
   ]
  },
  {
   "cell_type": "code",
   "execution_count": null,
   "metadata": {},
   "outputs": [],
   "source": [
    "# print variables\n",
    "prints(file_jp.parse('Notes', usecols=[0,1])\n",
    "              .dropna(how=\"all\")\n",
    "              .set_axis([\"Variable\", \"Description\"], axis=1)\n",
    "      )"
   ]
  },
  {
   "cell_type": "code",
   "execution_count": null,
   "metadata": {},
   "outputs": [],
   "source": [
    "df_jp = file_jp.parse('DATA')"
   ]
  },
  {
   "cell_type": "code",
   "execution_count": null,
   "metadata": {},
   "outputs": [],
   "source": [
    "df_jp = (df_jp.rename(columns = lambda x: pd.to_numeric(x.replace('_',''), \n",
    "                                                       errors='ignore'))\n",
    "        )"
   ]
  },
  {
   "cell_type": "markdown",
   "metadata": {},
   "source": [
    "### Test"
   ]
  },
  {
   "cell_type": "code",
   "execution_count": null,
   "metadata": {},
   "outputs": [],
   "source": [
    "# labor share\n",
    "var = [\"VA\", \"LAB\"]\n",
    "ind = \"TOT\"\n",
    "(df_jp.query(\"Variable in @var & code in @ind\")\n",
    "      .drop([\"desc\",\"code\"],axis=1).set_index(\"Variable\").T\n",
    "      .eval(\"labor_share = LAB / VA\")\n",
    ").plot(y=\"labor_share\");"
   ]
  },
  {
   "cell_type": "code",
   "execution_count": null,
   "metadata": {},
   "outputs": [],
   "source": [
    "# calculate labor productivity on Value-added\n",
    "var = [\"VA\", \"H_EMP\"]\n",
    "ind = \"TOT\"\n",
    "(df_jp.query(\"Variable in @var & code in @ind\")\n",
    "      .drop([\"desc\",\"code\"],axis=1).set_index(\"Variable\").T\n",
    "      .eval(\"labor_P = VA / H_EMP\")\n",
    "      .pct_change()\n",
    ").plot(y=\"labor_P\");"
   ]
  },
  {
   "cell_type": "code",
   "execution_count": null,
   "metadata": {},
   "outputs": [],
   "source": [
    "# plot TFP on Value-added in data\n",
    "var = [\"TFPva_I\"]\n",
    "(df_jp.query(\"Variable in @var & code in @ind\")\n",
    "      .drop([\"desc\",\"code\"],axis=1).set_index(\"Variable\").T\n",
    "      .pct_change()\n",
    ").plot();"
   ]
  },
  {
   "cell_type": "code",
   "execution_count": null,
   "metadata": {},
   "outputs": [],
   "source": []
  }
 ],
 "metadata": {
  "kernelspec": {
   "display_name": "Python 3.8",
   "language": "python",
   "name": "python3"
  },
  "language_info": {
   "codemirror_mode": {
    "name": "ipython",
    "version": 3
   },
   "file_extension": ".py",
   "mimetype": "text/x-python",
   "name": "python",
   "nbconvert_exporter": "python",
   "pygments_lexer": "ipython3",
   "version": "3.8.6"
  },
  "toc-autonumbering": false,
  "toc-showcode": false,
  "toc-showmarkdowntxt": false,
  "toc-showtags": false
 },
 "nbformat": 4,
 "nbformat_minor": 4
}
